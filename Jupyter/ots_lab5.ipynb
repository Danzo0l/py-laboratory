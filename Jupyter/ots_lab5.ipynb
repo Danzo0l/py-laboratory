{
 "cells": [
  {
   "cell_type": "code",
   "execution_count": 11,
   "id": "30f8b700-8873-4b1a-85bc-359b774db996",
   "metadata": {},
   "outputs": [],
   "source": [
    "import numpy as np\n",
    "import matplotlib.pyplot as plt\n",
    "from scipy.integrate import trapz\n"
   ]
  },
  {
   "cell_type": "code",
   "execution_count": 34,
   "id": "66120f20-f738-4ae9-a314-5dab3c796758",
   "metadata": {},
   "outputs": [],
   "source": [
    "# 2 Variant\n",
    "q = 4 # Count of signals\n",
    "T = 5 # mks\n",
    "f0 = 10 # Mhz\n",
    "\n",
    "A = 10 # Accurancy"
   ]
  },
  {
   "cell_type": "code",
   "execution_count": 35,
   "id": "474330ac-89d7-4c17-ba29-7316c6d171e4",
   "metadata": {},
   "outputs": [],
   "source": [
    "t = np.linspace(0, 5, A)"
   ]
  },
  {
   "cell_type": "code",
   "execution_count": 40,
   "id": "9791015a-c9a3-4bff-92ce-378a994544e6",
   "metadata": {},
   "outputs": [],
   "source": [
    "def E(s):\n",
    "    E_result = np.zeros(len(s))\n",
    "    for i in range(len(s)):\n",
    "        squared_s = s[i] ** 2\n",
    "        dt = T / len(squared_s)\n",
    "        E_result[i] = np.sum(squared_s) * dt\n",
    "    return E_result\n",
    "\n",
    "\n",
    "def s(t: np.ndarray, T, E_func, q, f0):\n",
    "    fi = f0 + np.arange(q) / T\n",
    "    condition = np.logical_and(t > 0, t < T)\n",
    "    E_values = np.array([E(s_val, T) for s_val in t])\n",
    "    result = np.zeros((q, len(t)))\n",
    "    for i in range(q):\n",
    "        result[i] = np.sqrt((2 * E_values[i]) / T) * np.cos(2 * np.pi * fi[i] * t) * condition\n",
    "    return result\n"
   ]
  },
  {
   "cell_type": "code",
   "execution_count": 41,
   "id": "db7b4ee9-f0bb-4529-989f-86a8f0d6e872",
   "metadata": {},
   "outputs": [
    {
     "ename": "TypeError",
     "evalue": "object of type 'numpy.float64' has no len()",
     "output_type": "error",
     "traceback": [
      "\u001b[1;31m---------------------------------------------------------------------------\u001b[0m",
      "\u001b[1;31mTypeError\u001b[0m                                 Traceback (most recent call last)",
      "Cell \u001b[1;32mIn[41], line 2\u001b[0m\n\u001b[0;32m      1\u001b[0m \u001b[38;5;66;03m# Вызов функции s\u001b[39;00m\n\u001b[1;32m----> 2\u001b[0m result \u001b[38;5;241m=\u001b[39m \u001b[43ms\u001b[49m\u001b[43m(\u001b[49m\u001b[43mt\u001b[49m\u001b[43m,\u001b[49m\u001b[43m \u001b[49m\u001b[43mT\u001b[49m\u001b[43m,\u001b[49m\u001b[43m \u001b[49m\u001b[43mE\u001b[49m\u001b[43m,\u001b[49m\u001b[43m \u001b[49m\u001b[43mq\u001b[49m\u001b[43m,\u001b[49m\u001b[43m \u001b[49m\u001b[43mf0\u001b[49m\u001b[43m)\u001b[49m\n\u001b[0;32m      4\u001b[0m \u001b[38;5;66;03m# Визуализация результатов\u001b[39;00m\n\u001b[0;32m      5\u001b[0m plt\u001b[38;5;241m.\u001b[39mfigure(figsize\u001b[38;5;241m=\u001b[39m(\u001b[38;5;241m10\u001b[39m, \u001b[38;5;241m6\u001b[39m))\n",
      "Cell \u001b[1;32mIn[40], line 13\u001b[0m, in \u001b[0;36ms\u001b[1;34m(t, T, E_func, q, f0)\u001b[0m\n\u001b[0;32m     11\u001b[0m fi \u001b[38;5;241m=\u001b[39m f0 \u001b[38;5;241m+\u001b[39m np\u001b[38;5;241m.\u001b[39marange(q) \u001b[38;5;241m/\u001b[39m T\n\u001b[0;32m     12\u001b[0m condition \u001b[38;5;241m=\u001b[39m np\u001b[38;5;241m.\u001b[39mlogical_and(t \u001b[38;5;241m>\u001b[39m \u001b[38;5;241m0\u001b[39m, t \u001b[38;5;241m<\u001b[39m T)\n\u001b[1;32m---> 13\u001b[0m E_values \u001b[38;5;241m=\u001b[39m \u001b[43mE\u001b[49m\u001b[43m(\u001b[49m\u001b[43mt\u001b[49m\u001b[43m)\u001b[49m\n\u001b[0;32m     14\u001b[0m result \u001b[38;5;241m=\u001b[39m np\u001b[38;5;241m.\u001b[39mzeros((q, \u001b[38;5;28mlen\u001b[39m(t)))\n\u001b[0;32m     15\u001b[0m \u001b[38;5;28;01mfor\u001b[39;00m i \u001b[38;5;129;01min\u001b[39;00m \u001b[38;5;28mrange\u001b[39m(q):\n",
      "Cell \u001b[1;32mIn[40], line 5\u001b[0m, in \u001b[0;36mE\u001b[1;34m(s)\u001b[0m\n\u001b[0;32m      3\u001b[0m \u001b[38;5;28;01mfor\u001b[39;00m i \u001b[38;5;129;01min\u001b[39;00m \u001b[38;5;28mrange\u001b[39m(\u001b[38;5;28mlen\u001b[39m(s)):\n\u001b[0;32m      4\u001b[0m     squared_s \u001b[38;5;241m=\u001b[39m s[i] \u001b[38;5;241m*\u001b[39m\u001b[38;5;241m*\u001b[39m \u001b[38;5;241m2\u001b[39m\n\u001b[1;32m----> 5\u001b[0m     dt \u001b[38;5;241m=\u001b[39m T \u001b[38;5;241m/\u001b[39m \u001b[38;5;28;43mlen\u001b[39;49m\u001b[43m(\u001b[49m\u001b[43msquared_s\u001b[49m\u001b[43m)\u001b[49m\n\u001b[0;32m      6\u001b[0m     E_result[i] \u001b[38;5;241m=\u001b[39m np\u001b[38;5;241m.\u001b[39msum(squared_s) \u001b[38;5;241m*\u001b[39m dt\n\u001b[0;32m      7\u001b[0m \u001b[38;5;28;01mreturn\u001b[39;00m E_result\n",
      "\u001b[1;31mTypeError\u001b[0m: object of type 'numpy.float64' has no len()"
     ]
    }
   ],
   "source": [
    "# Вызов функции s\n",
    "result = s(t, T, E, q, f0)\n",
    "\n",
    "# Визуализация результатов\n",
    "plt.figure(figsize=(10, 6))\n",
    "for i in range(q):\n",
    "    plt.plot(t, result[i], label=f'f[{i}]')\n",
    "plt.xlabel('t')\n",
    "plt.ylabel('s(t)')\n",
    "plt.title('s(t)')\n",
    "plt.legend()\n",
    "plt.grid(True)\n",
    "plt.show()"
   ]
  },
  {
   "cell_type": "code",
   "execution_count": null,
   "id": "62b52a00-911e-4a4c-bca7-5f0ed23cf880",
   "metadata": {},
   "outputs": [],
   "source": []
  }
 ],
 "metadata": {
  "kernelspec": {
   "display_name": "Python 3 (ipykernel)",
   "language": "python",
   "name": "python3"
  },
  "language_info": {
   "codemirror_mode": {
    "name": "ipython",
    "version": 3
   },
   "file_extension": ".py",
   "mimetype": "text/x-python",
   "name": "python",
   "nbconvert_exporter": "python",
   "pygments_lexer": "ipython3",
   "version": "3.9.12"
  }
 },
 "nbformat": 4,
 "nbformat_minor": 5
}
