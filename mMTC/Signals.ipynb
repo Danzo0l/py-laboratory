{
 "cells": [
  {
   "cell_type": "code",
   "execution_count": null,
   "id": "50316084-3a50-4655-8427-5579db78f0de",
   "metadata": {},
   "outputs": [],
   "source": [
    "#import numpy as np\n",
    "from matplotlib import pyplot as plt\n",
    "import pandas as pd\n",
    "\n",
    "# import user functions\n",
    "from mMTC.ZC_sequence import zc_sequence, zc_shift, cyclic_correlation, discrete_fourier_transform"
   ]
  },
  {
   "cell_type": "code",
   "execution_count": 2,
   "id": "34824fab-1dd2-4a1f-95c3-93baf534410d",
   "metadata": {},
   "outputs": [],
   "source": [
    "# ZC sequence params\n",
    "# First sequence\n",
    "NZC = 12\n",
    "r = 1\n",
    "# Second sequence (for cross-correlation)\n",
    "NZC1 = NZC\n",
    "r1 = 4\n",
    "# Accuracy\n",
    "ACURANCY = 8\n"
   ]
  },
  {
   "cell_type": "code",
   "execution_count": null,
   "id": "dd534af9-d15a-457e-82a5-f7d6e0fe4a0c",
   "metadata": {},
   "outputs": [],
   "source": []
  }
 ],
 "metadata": {
  "kernelspec": {
   "display_name": "Python 3 (ipykernel)",
   "language": "python",
   "name": "python3"
  },
  "language_info": {
   "codemirror_mode": {
    "name": "ipython",
    "version": 3
   },
   "file_extension": ".py",
   "mimetype": "text/x-python",
   "name": "python",
   "nbconvert_exporter": "python",
   "pygments_lexer": "ipython3",
   "version": "3.11.5"
  }
 },
 "nbformat": 4,
 "nbformat_minor": 5
}
