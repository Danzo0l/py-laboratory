{
 "cells": [
  {
   "cell_type": "code",
   "execution_count": 122,
   "id": "271b2fa1-af51-442d-af90-817f5b844d1f",
   "metadata": {},
   "outputs": [],
   "source": [
    "from typing import Callable\n",
    "\n",
    "def generate_truth_table(boolean_function: Callable) -> None:\n",
    "    \"\"\"\n",
    "    Generate a truth table for a given boolean function.\n",
    "\n",
    "    Parameters:\n",
    "        boolean_function (callable): A boolean function that takes boolean arguments and returns a boolean result.\n",
    "    \"\"\"\n",
    "    num_args = boolean_function.__code__.co_argcount\n",
    "    \n",
    "    header = [f'Q{num_args - i - 1}' for i in range(num_args)] + ['X']\n",
    "    header_str = ' | '.join(header)\n",
    "    separator = '-' * len(header_str)\n",
    "    print(header_str)\n",
    "    print(separator)\n",
    "    \n",
    "    for i in range(2 ** num_args):\n",
    "        args = [int(bool((i >> j) & 1)) for j in range(num_args)][::-1]\n",
    "        result = int(boolean_function(*args))\n",
    "        row = args + [result]\n",
    "        row_str = ' | '.join(map(str, row))\n",
    "        print(row_str)\n"
   ]
  },
  {
   "cell_type": "code",
   "execution_count": 123,
   "id": "4c16b429-dcb4-4b26-a758-d111070b1538",
   "metadata": {},
   "outputs": [
    {
     "name": "stdout",
     "output_type": "stream",
     "text": [
      "Q3 | Q2 | Q1 | Q0 | X\n",
      "---------------------\n",
      "0 | 0 | 0 | 0 | 0\n",
      "0 | 0 | 0 | 1 | 1\n",
      "0 | 0 | 1 | 0 | 2\n",
      "0 | 0 | 1 | 1 | 3\n",
      "0 | 1 | 0 | 0 | 4\n",
      "0 | 1 | 0 | 1 | 5\n",
      "0 | 1 | 1 | 0 | 6\n",
      "0 | 1 | 1 | 1 | 7\n",
      "1 | 0 | 0 | 0 | 8\n",
      "1 | 0 | 0 | 1 | 9\n",
      "1 | 0 | 1 | 0 | 10\n",
      "1 | 0 | 1 | 1 | 11\n",
      "1 | 1 | 0 | 0 | 12\n",
      "1 | 1 | 0 | 1 | 13\n",
      "1 | 1 | 1 | 0 | 14\n",
      "1 | 1 | 1 | 1 | 15\n"
     ]
    }
   ],
   "source": [
    "def xor(q3, q2, q1, q0):\n",
    "    return q3 * 2**3 + q2 * 2**2 + q1 * 2**1 + q0 * 2**0\n",
    "\n",
    "generate_truth_table(xor)"
   ]
  },
  {
   "cell_type": "code",
   "execution_count": null,
   "id": "e30b1f42-6c30-48d2-b984-c378d31b2785",
   "metadata": {},
   "outputs": [],
   "source": []
  }
 ],
 "metadata": {
  "kernelspec": {
   "display_name": "Python 3 (ipykernel)",
   "language": "python",
   "name": "python3"
  },
  "language_info": {
   "codemirror_mode": {
    "name": "ipython",
    "version": 3
   },
   "file_extension": ".py",
   "mimetype": "text/x-python",
   "name": "python",
   "nbconvert_exporter": "python",
   "pygments_lexer": "ipython3",
   "version": "3.12.0"
  }
 },
 "nbformat": 4,
 "nbformat_minor": 5
}
