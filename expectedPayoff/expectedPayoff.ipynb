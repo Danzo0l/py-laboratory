{
 "cells": [
  {
   "cell_type": "code",
   "execution_count": 6,
   "id": "958e2e6a-c4d4-4aa3-9e16-a3bb52d4db0c",
   "metadata": {},
   "outputs": [],
   "source": [
    "import random\n",
    "import matplotlib.pyplot as plt\n",
    "import matplotlib.patches as patches"
   ]
  },
  {
   "cell_type": "code",
   "execution_count": 7,
   "id": "50815512-5473-4242-9738-b5b5d002c515",
   "metadata": {},
   "outputs": [],
   "source": [
    "class Point:\n",
    "    def __init__(self, x: float, y: float):\n",
    "        self.x = x\n",
    "        self.y = y\n",
    "\n",
    "    def __str__(self) -> str:\n",
    "        return f\"Point({self.x}, {self.y})\"\n",
    "\n",
    "\n",
    "class PayoffRes:\n",
    "    def __init__(self, triangle_area: float, point1: Point, point2: Point, attempts: int):\n",
    "        self.triangle_area = triangle_area\n",
    "        self.point1 = point1\n",
    "        self.point2 = point2\n",
    "        self.attempts = attempts\n",
    "\n",
    "    def __str__(self) -> str:\n",
    "        return f\"Res: \\n\\ta: {self.point1}\\n\\tb: {self.point2}\\n\\tarea: {self.triangle_area}, \\n\\tattempts: {self.attempts}\"\n"
   ]
  },
  {
   "cell_type": "code",
   "execution_count": 8,
   "id": "f23c959c-7d96-4008-9518-d6ebfe763c53",
   "metadata": {},
   "outputs": [],
   "source": [
    "def triangle_area(a: Point, b: Point, c: Point) -> float:\n",
    "    return 0.5 * abs((b.x - a.x) * (c.y - a.y) - (c.x - a.x) * (b.y - a.y))\n",
    "\n",
    "\n",
    "def generate_random_point(a: float, b: float) -> Point:\n",
    "    return Point(random.uniform(0, b), random.uniform(0, a))\n",
    "\n",
    "\n",
    "def center_line(b: float, a: float) -> float:\n",
    "    return a / b"
   ]
  },
  {
   "cell_type": "code",
   "execution_count": 9,
   "id": "d502fe57-bdaf-413a-aea0-e723fc95eba8",
   "metadata": {},
   "outputs": [],
   "source": [
    "def pseudo_real_test(iterations: int, a: float, b: float):\n",
    "    point1x: float = 0\n",
    "    point1y: float = 0\n",
    "    point2x: float = 0\n",
    "    point2y: float = 0\n",
    "\n",
    "    attempts_count: int = 0\n",
    "    total_triangle_area: float = 0\n",
    "    line = center_line(b, a)\n",
    "\n",
    "    for i in range(iterations):\n",
    "        # set points\n",
    "        point_a = generate_random_point(a, b)\n",
    "        point_b = generate_random_point(a, b)\n",
    "        point_c = Point(0, 0)\n",
    "\n",
    "        if (point_a.x * line > point_a.y) and (point_b.x * line < point_b.y):\n",
    "            total_triangle_area += triangle_area(point_a, point_b, point_c)\n",
    "            attempts_count += 1\n",
    "\n",
    "            point1x += point_a.x\n",
    "            point1y += point_a.y\n",
    "            point2x += point_b.x\n",
    "            point2y += point_b.y\n",
    "            \n",
    "    if attempts_count == 0:\n",
    "        attempts_count = 1\n",
    "    \n",
    "    point1x /= attempts_count\n",
    "    point1y /= attempts_count\n",
    "    point2x /= attempts_count\n",
    "    point2y /= attempts_count\n",
    "\n",
    "    return PayoffRes(total_triangle_area / attempts_count, Point(point1x, point1y), Point(point2x, point2y),\n",
    "                     attempts_count)\n"
   ]
  },
  {
   "cell_type": "code",
   "execution_count": 10,
   "id": "ea92f8fb-fe21-4ddd-908b-cef79e798eb6",
   "metadata": {},
   "outputs": [],
   "source": [
    "def plot_exp(a: float, b: float, point_a: Point, point_b: Point):\n",
    "    fig, ax = plt.subplots()\n",
    "\n",
    "    rectangle = patches.Rectangle((0, 0), b, a, linewidth=1, edgecolor='b', facecolor='none')\n",
    "    ax.add_patch(rectangle)\n",
    "\n",
    "    point_a = (point_a.x, point_a.y)\n",
    "    point_b = (point_b.x, point_b.y)\n",
    "    point_c = (0, 0)\n",
    "\n",
    "    line = plt.Line2D([0, b], [0, a], color='black')\n",
    "    ax.add_line(line)\n",
    "    triangle = patches.Polygon([point_a, point_b, point_c], closed=True, facecolor='red', alpha=0.5)\n",
    "    ax.add_patch(triangle)\n",
    "\n",
    "    ax.set_xlim(0, b)\n",
    "    ax.set_xticks([0, b])\n",
    "    ax.set_ylim(0, a)\n",
    "    ax.set_yticks([0, a])\n",
    "    plt.xlabel('b')\n",
    "    plt.ylabel('a')\n",
    "\n",
    "    plt.show()"
   ]
  },
  {
   "cell_type": "code",
   "execution_count": 32,
   "id": "284b140a-ab2e-454b-ac2d-993dadbc820c",
   "metadata": {},
   "outputs": [
    {
     "data": {
      "image/png": "[encoded data removed]",
      "text/plain": [
       "<Figure size 640x480 with 1 Axes>"
      ]
     },
     "metadata": {},
     "output_type": "display_data"
    },
    {
     "name": "stdout",
     "output_type": "stream",
     "text": [
      "Res: \n",
      "\ta: Point(1.3331519968172967, 2.0009125314187606)\n",
      "\tb: Point(0.668048293062866, 4.001989471647924)\n",
      "\tarea: 1.9993175106535321, \n",
      "\tattempts: 249655\n"
     ]
    }
   ],
   "source": [
    "if __name__ == '__main__':\n",
    "\n",
    "    # PARAMS\n",
    "    B: float = 2\n",
    "    A: float = 6\n",
    "    iterations: int = 1000000\n",
    "\n",
    "    \n",
    "    experiment = pseudo_real_test(iterations, A, B)\n",
    "    plot_exp(A, B, experiment.point1, experiment.point2)\n",
    "    print(experiment)"
   ]
  },
  {
   "cell_type": "code",
   "execution_count": null,
   "id": "2897669e-f09e-42f0-850b-5f504b0acce8",
   "metadata": {},
   "outputs": [],
   "source": []
  }
 ],
 "metadata": {
  "kernelspec": {
   "display_name": "Python 3 (ipykernel)",
   "language": "python",
   "name": "python3"
  },
  "language_info": {
   "codemirror_mode": {
    "name": "ipython",
    "version": 3
   },
   "file_extension": ".py",
   "mimetype": "text/x-python",
   "name": "python",
   "nbconvert_exporter": "python",
   "pygments_lexer": "ipython3",
   "version": "3.12.0"
  }
 },
 "nbformat": 4,
 "nbformat_minor": 5
}
